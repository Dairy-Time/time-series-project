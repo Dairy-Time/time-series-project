{
 "cells": [
  {
   "cell_type": "code",
   "execution_count": 1,
   "metadata": {},
   "outputs": [],
   "source": [
    "import warnings\n",
    "warnings.filterwarnings(\"ignore\")\n",
    "\n",
    "import pandas as pd\n",
    "import numpy as np\n",
    "import matplotlib.pyplot as plt\n",
    "import seaborn as sns\n",
    "\n",
    "from datetime import datetime\n",
    "import itertools as it\n",
    "\n",
    "from statsmodels.tsa.api import ExponentialSmoothing, SimpleExpSmoothing, Holt\n",
    "import statsmodels.api as sm\n",
    "from statsmodels.tsa.ar_model import AR\n",
    "\n",
    "from sklearn.model_selection import TimeSeriesSplit\n",
    "from sklearn import metrics\n",
    "\n",
    "import math\n",
    "\n",
    "import summarize"
   ]
  },
  {
   "cell_type": "code",
   "execution_count": 2,
   "metadata": {},
   "outputs": [],
   "source": [
    "df = pd.read_csv('fitbit/tidy.csv')"
   ]
  },
  {
   "cell_type": "code",
   "execution_count": 3,
   "metadata": {},
   "outputs": [],
   "source": [
    "# We decided to remove the food logs because they were mostly 0"
   ]
  },
  {
   "cell_type": "code",
   "execution_count": 4,
   "metadata": {},
   "outputs": [
    {
     "data": {
      "text/html": [
       "<div>\n",
       "<style scoped>\n",
       "    .dataframe tbody tr th:only-of-type {\n",
       "        vertical-align: middle;\n",
       "    }\n",
       "\n",
       "    .dataframe tbody tr th {\n",
       "        vertical-align: top;\n",
       "    }\n",
       "\n",
       "    .dataframe thead th {\n",
       "        text-align: right;\n",
       "    }\n",
       "</style>\n",
       "<table border=\"1\" class=\"dataframe\">\n",
       "  <thead>\n",
       "    <tr style=\"text-align: right;\">\n",
       "      <th></th>\n",
       "      <th>date</th>\n",
       "      <th>calories_burned</th>\n",
       "      <th>steps</th>\n",
       "      <th>distance</th>\n",
       "      <th>floors</th>\n",
       "      <th>minutes_sedentary</th>\n",
       "      <th>minutes_lightly_active</th>\n",
       "      <th>minutes_fairly_active</th>\n",
       "      <th>minutes_very_active</th>\n",
       "      <th>activity_calories</th>\n",
       "    </tr>\n",
       "  </thead>\n",
       "  <tbody>\n",
       "    <tr>\n",
       "      <th>0</th>\n",
       "      <td>4/26/18</td>\n",
       "      <td>2,635</td>\n",
       "      <td>2,931</td>\n",
       "      <td>1.38</td>\n",
       "      <td>2</td>\n",
       "      <td>1,347</td>\n",
       "      <td>93</td>\n",
       "      <td>0</td>\n",
       "      <td>0</td>\n",
       "      <td>566</td>\n",
       "    </tr>\n",
       "    <tr>\n",
       "      <th>1</th>\n",
       "      <td>4/27/18</td>\n",
       "      <td>3,649</td>\n",
       "      <td>9,971</td>\n",
       "      <td>4.70</td>\n",
       "      <td>19</td>\n",
       "      <td>1,158</td>\n",
       "      <td>219</td>\n",
       "      <td>46</td>\n",
       "      <td>17</td>\n",
       "      <td>1,752</td>\n",
       "    </tr>\n",
       "    <tr>\n",
       "      <th>2</th>\n",
       "      <td>4/28/18</td>\n",
       "      <td>3,379</td>\n",
       "      <td>3,521</td>\n",
       "      <td>1.66</td>\n",
       "      <td>2</td>\n",
       "      <td>702</td>\n",
       "      <td>155</td>\n",
       "      <td>22</td>\n",
       "      <td>11</td>\n",
       "      <td>1,124</td>\n",
       "    </tr>\n",
       "    <tr>\n",
       "      <th>3</th>\n",
       "      <td>4/29/18</td>\n",
       "      <td>2,851</td>\n",
       "      <td>1,639</td>\n",
       "      <td>0.77</td>\n",
       "      <td>0</td>\n",
       "      <td>891</td>\n",
       "      <td>122</td>\n",
       "      <td>0</td>\n",
       "      <td>0</td>\n",
       "      <td>602</td>\n",
       "    </tr>\n",
       "    <tr>\n",
       "      <th>4</th>\n",
       "      <td>4/30/18</td>\n",
       "      <td>2,825</td>\n",
       "      <td>1,323</td>\n",
       "      <td>0.62</td>\n",
       "      <td>0</td>\n",
       "      <td>880</td>\n",
       "      <td>104</td>\n",
       "      <td>0</td>\n",
       "      <td>0</td>\n",
       "      <td>540</td>\n",
       "    </tr>\n",
       "  </tbody>\n",
       "</table>\n",
       "</div>"
      ],
      "text/plain": [
       "      date calories_burned  steps  distance  floors minutes_sedentary  \\\n",
       "0  4/26/18           2,635  2,931      1.38       2             1,347   \n",
       "1  4/27/18           3,649  9,971      4.70      19             1,158   \n",
       "2  4/28/18           3,379  3,521      1.66       2               702   \n",
       "3  4/29/18           2,851  1,639      0.77       0               891   \n",
       "4  4/30/18           2,825  1,323      0.62       0               880   \n",
       "\n",
       "   minutes_lightly_active  minutes_fairly_active  minutes_very_active  \\\n",
       "0                      93                      0                    0   \n",
       "1                     219                     46                   17   \n",
       "2                     155                     22                   11   \n",
       "3                     122                      0                    0   \n",
       "4                     104                      0                    0   \n",
       "\n",
       "  activity_calories  \n",
       "0               566  \n",
       "1             1,752  \n",
       "2             1,124  \n",
       "3               602  \n",
       "4               540  "
      ]
     },
     "execution_count": 4,
     "metadata": {},
     "output_type": "execute_result"
    }
   ],
   "source": [
    "df.head(5)"
   ]
  },
  {
   "cell_type": "code",
   "execution_count": 5,
   "metadata": {
    "scrolled": true
   },
   "outputs": [
    {
     "name": "stdout",
     "output_type": "stream",
     "text": [
      "--- Shape: (225, 10)\n",
      "--- Info\n",
      "<class 'pandas.core.frame.DataFrame'>\n",
      "RangeIndex: 225 entries, 0 to 224\n",
      "Data columns (total 10 columns):\n",
      "date                      225 non-null object\n",
      "calories_burned           225 non-null object\n",
      "steps                     225 non-null object\n",
      "distance                  225 non-null float64\n",
      "floors                    225 non-null int64\n",
      "minutes_sedentary         225 non-null object\n",
      "minutes_lightly_active    225 non-null int64\n",
      "minutes_fairly_active     225 non-null int64\n",
      "minutes_very_active       225 non-null int64\n",
      "activity_calories         225 non-null object\n",
      "dtypes: float64(1), int64(4), object(5)\n",
      "memory usage: 17.7+ KB\n",
      "--- Descriptions\n",
      "            date calories_burned steps    distance      floors  \\\n",
      "count        225             225   225  225.000000  225.000000   \n",
      "unique       225             207   213         NaN         NaN   \n",
      "top     11/27/18           2,145     0         NaN         NaN   \n",
      "freq           1               4    12         NaN         NaN   \n",
      "mean         NaN             NaN   NaN    4.046800   12.591111   \n",
      "std          NaN             NaN   NaN    2.506253   25.844174   \n",
      "min          NaN             NaN   NaN    0.000000    0.000000   \n",
      "25%          NaN             NaN   NaN    2.220000    2.000000   \n",
      "50%          NaN             NaN   NaN    3.680000    7.000000   \n",
      "75%          NaN             NaN   NaN    5.900000   13.000000   \n",
      "max          NaN             NaN   NaN   12.000000  195.000000   \n",
      "\n",
      "       minutes_sedentary  minutes_lightly_active  minutes_fairly_active  \\\n",
      "count                225              225.000000             225.000000   \n",
      "unique               181                     NaN                    NaN   \n",
      "top                1,440                     NaN                    NaN   \n",
      "freq                   9                     NaN                    NaN   \n",
      "mean                 NaN              188.235556              14.920000   \n",
      "std                  NaN               75.170001              15.363535   \n",
      "min                  NaN                0.000000               0.000000   \n",
      "25%                  NaN              158.000000               3.000000   \n",
      "50%                  NaN              203.000000              11.000000   \n",
      "75%                  NaN              236.000000              21.000000   \n",
      "max                  NaN              349.000000              78.000000   \n",
      "\n",
      "        minutes_very_active activity_calories  \n",
      "count            225.000000               225  \n",
      "unique                  NaN               207  \n",
      "top                     NaN                 0  \n",
      "freq                    NaN                 9  \n",
      "mean              33.871111               NaN  \n",
      "std               37.195986               NaN  \n",
      "min                0.000000               NaN  \n",
      "25%                2.000000               NaN  \n",
      "50%               15.000000               NaN  \n",
      "75%               63.000000               NaN  \n",
      "max              154.000000               NaN  \n",
      "--- Nulls By Column\n",
      "                        num_rows_missing  pct_rows_missing\n",
      "date                                   0               0.0\n",
      "calories_burned                        0               0.0\n",
      "steps                                  0               0.0\n",
      "distance                               0               0.0\n",
      "floors                                 0               0.0\n",
      "minutes_sedentary                      0               0.0\n",
      "minutes_lightly_active                 0               0.0\n",
      "minutes_fairly_active                  0               0.0\n",
      "minutes_very_active                    0               0.0\n",
      "activity_calories                      0               0.0\n",
      "--- Nulls By Row\n",
      "  num_cols_missing pct_cols_missing  num_rows\n",
      "0                0              0.0       225\n",
      "--- Value Counts\n",
      "11/27/18    1\n",
      "10/29/18    1\n",
      "10/10/18    1\n",
      "11/13/18    1\n",
      "9/18/18     1\n",
      "11/23/18    1\n",
      "6/3/18      1\n",
      "6/20/18     1\n",
      "6/7/18      1\n",
      "8/19/18     1\n",
      "5/29/18     1\n",
      "6/27/18     1\n",
      "11/30/18    1\n",
      "6/10/18     1\n",
      "5/14/18     1\n",
      "12/2/18     1\n",
      "11/8/18     1\n",
      "9/17/18     1\n",
      "9/25/18     1\n",
      "11/20/18    1\n",
      "8/11/18     1\n",
      "9/2/18      1\n",
      "9/11/18     1\n",
      "10/3/18     1\n",
      "11/22/18    1\n",
      "5/10/18     1\n",
      "6/6/18      1\n",
      "7/2/18      1\n",
      "11/10/18    1\n",
      "6/23/18     1\n",
      "           ..\n",
      "932         1\n",
      "1,266       1\n",
      "1,756       1\n",
      "2,115       1\n",
      "2,671       1\n",
      "2,015       1\n",
      "506         1\n",
      "1,124       1\n",
      "1,175       1\n",
      "2,686       1\n",
      "1,108       1\n",
      "1,495       1\n",
      "1,011       1\n",
      "1,565       1\n",
      "1,196       1\n",
      "1,577       1\n",
      "1,731       1\n",
      "2,717       1\n",
      "2,219       1\n",
      "2,504       1\n",
      "1,817       1\n",
      "1,289       1\n",
      "1,968       1\n",
      "1,006       1\n",
      "1,677       1\n",
      "745         1\n",
      "2,124       1\n",
      "1,062       1\n",
      "829         1\n",
      "2,834       1\n",
      "Length: 1083, dtype: int64\n"
     ]
    }
   ],
   "source": [
    "summarize.df_summary(df)"
   ]
  },
  {
   "cell_type": "code",
   "execution_count": 6,
   "metadata": {},
   "outputs": [],
   "source": [
    "# change date to datetime\n",
    "# remove commas to change to numeric dtypes"
   ]
  },
  {
   "cell_type": "code",
   "execution_count": 7,
   "metadata": {},
   "outputs": [],
   "source": [
    "df['date'] = pd.to_datetime(df['date'])"
   ]
  },
  {
   "cell_type": "code",
   "execution_count": 8,
   "metadata": {},
   "outputs": [],
   "source": [
    "df = df.set_index(df['date'])"
   ]
  },
  {
   "cell_type": "code",
   "execution_count": 9,
   "metadata": {},
   "outputs": [
    {
     "data": {
      "text/html": [
       "<div>\n",
       "<style scoped>\n",
       "    .dataframe tbody tr th:only-of-type {\n",
       "        vertical-align: middle;\n",
       "    }\n",
       "\n",
       "    .dataframe tbody tr th {\n",
       "        vertical-align: top;\n",
       "    }\n",
       "\n",
       "    .dataframe thead th {\n",
       "        text-align: right;\n",
       "    }\n",
       "</style>\n",
       "<table border=\"1\" class=\"dataframe\">\n",
       "  <thead>\n",
       "    <tr style=\"text-align: right;\">\n",
       "      <th></th>\n",
       "      <th>date</th>\n",
       "      <th>calories_burned</th>\n",
       "      <th>steps</th>\n",
       "      <th>distance</th>\n",
       "      <th>floors</th>\n",
       "      <th>minutes_sedentary</th>\n",
       "      <th>minutes_lightly_active</th>\n",
       "      <th>minutes_fairly_active</th>\n",
       "      <th>minutes_very_active</th>\n",
       "      <th>activity_calories</th>\n",
       "    </tr>\n",
       "    <tr>\n",
       "      <th>date</th>\n",
       "      <th></th>\n",
       "      <th></th>\n",
       "      <th></th>\n",
       "      <th></th>\n",
       "      <th></th>\n",
       "      <th></th>\n",
       "      <th></th>\n",
       "      <th></th>\n",
       "      <th></th>\n",
       "      <th></th>\n",
       "    </tr>\n",
       "  </thead>\n",
       "  <tbody>\n",
       "    <tr>\n",
       "      <th>2018-04-26</th>\n",
       "      <td>2018-04-26</td>\n",
       "      <td>2,635</td>\n",
       "      <td>2,931</td>\n",
       "      <td>1.38</td>\n",
       "      <td>2</td>\n",
       "      <td>1,347</td>\n",
       "      <td>93</td>\n",
       "      <td>0</td>\n",
       "      <td>0</td>\n",
       "      <td>566</td>\n",
       "    </tr>\n",
       "    <tr>\n",
       "      <th>2018-04-27</th>\n",
       "      <td>2018-04-27</td>\n",
       "      <td>3,649</td>\n",
       "      <td>9,971</td>\n",
       "      <td>4.70</td>\n",
       "      <td>19</td>\n",
       "      <td>1,158</td>\n",
       "      <td>219</td>\n",
       "      <td>46</td>\n",
       "      <td>17</td>\n",
       "      <td>1,752</td>\n",
       "    </tr>\n",
       "    <tr>\n",
       "      <th>2018-04-28</th>\n",
       "      <td>2018-04-28</td>\n",
       "      <td>3,379</td>\n",
       "      <td>3,521</td>\n",
       "      <td>1.66</td>\n",
       "      <td>2</td>\n",
       "      <td>702</td>\n",
       "      <td>155</td>\n",
       "      <td>22</td>\n",
       "      <td>11</td>\n",
       "      <td>1,124</td>\n",
       "    </tr>\n",
       "    <tr>\n",
       "      <th>2018-04-29</th>\n",
       "      <td>2018-04-29</td>\n",
       "      <td>2,851</td>\n",
       "      <td>1,639</td>\n",
       "      <td>0.77</td>\n",
       "      <td>0</td>\n",
       "      <td>891</td>\n",
       "      <td>122</td>\n",
       "      <td>0</td>\n",
       "      <td>0</td>\n",
       "      <td>602</td>\n",
       "    </tr>\n",
       "    <tr>\n",
       "      <th>2018-04-30</th>\n",
       "      <td>2018-04-30</td>\n",
       "      <td>2,825</td>\n",
       "      <td>1,323</td>\n",
       "      <td>0.62</td>\n",
       "      <td>0</td>\n",
       "      <td>880</td>\n",
       "      <td>104</td>\n",
       "      <td>0</td>\n",
       "      <td>0</td>\n",
       "      <td>540</td>\n",
       "    </tr>\n",
       "  </tbody>\n",
       "</table>\n",
       "</div>"
      ],
      "text/plain": [
       "                 date calories_burned  steps  distance  floors  \\\n",
       "date                                                             \n",
       "2018-04-26 2018-04-26           2,635  2,931      1.38       2   \n",
       "2018-04-27 2018-04-27           3,649  9,971      4.70      19   \n",
       "2018-04-28 2018-04-28           3,379  3,521      1.66       2   \n",
       "2018-04-29 2018-04-29           2,851  1,639      0.77       0   \n",
       "2018-04-30 2018-04-30           2,825  1,323      0.62       0   \n",
       "\n",
       "           minutes_sedentary  minutes_lightly_active  minutes_fairly_active  \\\n",
       "date                                                                          \n",
       "2018-04-26             1,347                      93                      0   \n",
       "2018-04-27             1,158                     219                     46   \n",
       "2018-04-28               702                     155                     22   \n",
       "2018-04-29               891                     122                      0   \n",
       "2018-04-30               880                     104                      0   \n",
       "\n",
       "            minutes_very_active activity_calories  \n",
       "date                                               \n",
       "2018-04-26                    0               566  \n",
       "2018-04-27                   17             1,752  \n",
       "2018-04-28                   11             1,124  \n",
       "2018-04-29                    0               602  \n",
       "2018-04-30                    0               540  "
      ]
     },
     "execution_count": 9,
     "metadata": {},
     "output_type": "execute_result"
    }
   ],
   "source": [
    "df.head()"
   ]
  },
  {
   "cell_type": "code",
   "execution_count": 10,
   "metadata": {},
   "outputs": [],
   "source": [
    "df['calories_burned'] = df['calories_burned'].str.replace(',','')\n",
    "df['steps'] = df['steps'].str.replace(',','')\n",
    "df['minutes_sedentary'] = df['minutes_sedentary'].str.replace(',','')\n",
    "df['activity_calories'] = df['activity_calories'].str.replace(',','')"
   ]
  },
  {
   "cell_type": "code",
   "execution_count": 11,
   "metadata": {},
   "outputs": [
    {
     "name": "stdout",
     "output_type": "stream",
     "text": [
      "<class 'pandas.core.frame.DataFrame'>\n",
      "DatetimeIndex: 225 entries, 2018-04-26 to 2018-12-06\n",
      "Data columns (total 10 columns):\n",
      "date                      225 non-null datetime64[ns]\n",
      "calories_burned           225 non-null object\n",
      "steps                     225 non-null object\n",
      "distance                  225 non-null float64\n",
      "floors                    225 non-null int64\n",
      "minutes_sedentary         225 non-null object\n",
      "minutes_lightly_active    225 non-null int64\n",
      "minutes_fairly_active     225 non-null int64\n",
      "minutes_very_active       225 non-null int64\n",
      "activity_calories         225 non-null object\n",
      "dtypes: datetime64[ns](1), float64(1), int64(4), object(4)\n",
      "memory usage: 19.3+ KB\n"
     ]
    }
   ],
   "source": [
    "df.info()"
   ]
  },
  {
   "cell_type": "code",
   "execution_count": 12,
   "metadata": {},
   "outputs": [
    {
     "data": {
      "text/plain": [
       "date                      datetime64[ns]\n",
       "calories_burned                   object\n",
       "steps                             object\n",
       "distance                         float64\n",
       "floors                             int64\n",
       "minutes_sedentary                 object\n",
       "minutes_lightly_active             int64\n",
       "minutes_fairly_active              int64\n",
       "minutes_very_active                int64\n",
       "activity_calories                 object\n",
       "dtype: object"
      ]
     },
     "execution_count": 12,
     "metadata": {},
     "output_type": "execute_result"
    }
   ],
   "source": [
    "df.dtypes"
   ]
  },
  {
   "cell_type": "code",
   "execution_count": 13,
   "metadata": {},
   "outputs": [],
   "source": [
    "# change the data types to numeric dtypes\n",
    "df[['calories_burned', 'steps', 'minutes_sedentary', 'activity_calories']] = df[['calories_burned', 'steps', 'minutes_sedentary', 'activity_calories']].apply(pd.to_numeric)"
   ]
  },
  {
   "cell_type": "code",
   "execution_count": 14,
   "metadata": {},
   "outputs": [
    {
     "data": {
      "text/plain": [
       "date                      datetime64[ns]\n",
       "calories_burned                    int64\n",
       "steps                              int64\n",
       "distance                         float64\n",
       "floors                             int64\n",
       "minutes_sedentary                  int64\n",
       "minutes_lightly_active             int64\n",
       "minutes_fairly_active              int64\n",
       "minutes_very_active                int64\n",
       "activity_calories                  int64\n",
       "dtype: object"
      ]
     },
     "execution_count": 14,
     "metadata": {},
     "output_type": "execute_result"
    }
   ],
   "source": [
    "df.dtypes"
   ]
  },
  {
   "cell_type": "code",
   "execution_count": 15,
   "metadata": {},
   "outputs": [],
   "source": [
    "# Add nnew column to track total minutes accounted for. There are 1440 minutes in a day\n",
    "# Use this column to track how long they were wearing the fitbit\n",
    "df['total_minutes_logged'] = df['minutes_sedentary'] + df['minutes_lightly_active'] + df['minutes_fairly_active'] + df['minutes_very_active']"
   ]
  },
  {
   "cell_type": "code",
   "execution_count": 16,
   "metadata": {},
   "outputs": [
    {
     "data": {
      "text/html": [
       "<div>\n",
       "<style scoped>\n",
       "    .dataframe tbody tr th:only-of-type {\n",
       "        vertical-align: middle;\n",
       "    }\n",
       "\n",
       "    .dataframe tbody tr th {\n",
       "        vertical-align: top;\n",
       "    }\n",
       "\n",
       "    .dataframe thead th {\n",
       "        text-align: right;\n",
       "    }\n",
       "</style>\n",
       "<table border=\"1\" class=\"dataframe\">\n",
       "  <thead>\n",
       "    <tr style=\"text-align: right;\">\n",
       "      <th></th>\n",
       "      <th>date</th>\n",
       "      <th>calories_burned</th>\n",
       "      <th>steps</th>\n",
       "      <th>distance</th>\n",
       "      <th>floors</th>\n",
       "      <th>minutes_sedentary</th>\n",
       "      <th>minutes_lightly_active</th>\n",
       "      <th>minutes_fairly_active</th>\n",
       "      <th>minutes_very_active</th>\n",
       "      <th>activity_calories</th>\n",
       "      <th>total_minutes_logged</th>\n",
       "    </tr>\n",
       "    <tr>\n",
       "      <th>date</th>\n",
       "      <th></th>\n",
       "      <th></th>\n",
       "      <th></th>\n",
       "      <th></th>\n",
       "      <th></th>\n",
       "      <th></th>\n",
       "      <th></th>\n",
       "      <th></th>\n",
       "      <th></th>\n",
       "      <th></th>\n",
       "      <th></th>\n",
       "    </tr>\n",
       "  </thead>\n",
       "  <tbody>\n",
       "    <tr>\n",
       "      <th>2018-04-26</th>\n",
       "      <td>2018-04-26</td>\n",
       "      <td>2635</td>\n",
       "      <td>2931</td>\n",
       "      <td>1.38</td>\n",
       "      <td>2</td>\n",
       "      <td>1347</td>\n",
       "      <td>93</td>\n",
       "      <td>0</td>\n",
       "      <td>0</td>\n",
       "      <td>566</td>\n",
       "      <td>1440</td>\n",
       "    </tr>\n",
       "    <tr>\n",
       "      <th>2018-04-27</th>\n",
       "      <td>2018-04-27</td>\n",
       "      <td>3649</td>\n",
       "      <td>9971</td>\n",
       "      <td>4.70</td>\n",
       "      <td>19</td>\n",
       "      <td>1158</td>\n",
       "      <td>219</td>\n",
       "      <td>46</td>\n",
       "      <td>17</td>\n",
       "      <td>1752</td>\n",
       "      <td>1440</td>\n",
       "    </tr>\n",
       "    <tr>\n",
       "      <th>2018-04-28</th>\n",
       "      <td>2018-04-28</td>\n",
       "      <td>3379</td>\n",
       "      <td>3521</td>\n",
       "      <td>1.66</td>\n",
       "      <td>2</td>\n",
       "      <td>702</td>\n",
       "      <td>155</td>\n",
       "      <td>22</td>\n",
       "      <td>11</td>\n",
       "      <td>1124</td>\n",
       "      <td>890</td>\n",
       "    </tr>\n",
       "  </tbody>\n",
       "</table>\n",
       "</div>"
      ],
      "text/plain": [
       "                 date  calories_burned  steps  distance  floors  \\\n",
       "date                                                              \n",
       "2018-04-26 2018-04-26             2635   2931      1.38       2   \n",
       "2018-04-27 2018-04-27             3649   9971      4.70      19   \n",
       "2018-04-28 2018-04-28             3379   3521      1.66       2   \n",
       "\n",
       "            minutes_sedentary  minutes_lightly_active  minutes_fairly_active  \\\n",
       "date                                                                           \n",
       "2018-04-26               1347                      93                      0   \n",
       "2018-04-27               1158                     219                     46   \n",
       "2018-04-28                702                     155                     22   \n",
       "\n",
       "            minutes_very_active  activity_calories  total_minutes_logged  \n",
       "date                                                                      \n",
       "2018-04-26                    0                566                  1440  \n",
       "2018-04-27                   17               1752                  1440  \n",
       "2018-04-28                   11               1124                   890  "
      ]
     },
     "execution_count": 16,
     "metadata": {},
     "output_type": "execute_result"
    }
   ],
   "source": [
    "df.head(3)"
   ]
  },
  {
   "cell_type": "code",
   "execution_count": 17,
   "metadata": {},
   "outputs": [],
   "source": [
    "# distance per step - the average person takes a stride of about 2.1 to 2.5 feet \n",
    "# (woman's average 2.2) (average man)\n",
    "# (our person takes a stride of 2.4816, probably a make)\n",
    "df['distance per step'] = (df['distance'] / df['steps']) "
   ]
  },
  {
   "cell_type": "code",
   "execution_count": 18,
   "metadata": {},
   "outputs": [],
   "source": [
    "# dont know if miles or km\n",
    "# mile = 2.5 step stride\n",
    "# km = 1.5 step stride\n",
    "\n",
    "# if we assume that steps are in miles, we can assume the participant is an American, therefore cn take American holidays into consideration\n",
    "# taking calorie intake and stride into account, can find approximate weight for either male or female\n"
   ]
  },
  {
   "cell_type": "code",
   "execution_count": 19,
   "metadata": {},
   "outputs": [
    {
     "data": {
      "text/html": [
       "<div>\n",
       "<style scoped>\n",
       "    .dataframe tbody tr th:only-of-type {\n",
       "        vertical-align: middle;\n",
       "    }\n",
       "\n",
       "    .dataframe tbody tr th {\n",
       "        vertical-align: top;\n",
       "    }\n",
       "\n",
       "    .dataframe thead th {\n",
       "        text-align: right;\n",
       "    }\n",
       "</style>\n",
       "<table border=\"1\" class=\"dataframe\">\n",
       "  <thead>\n",
       "    <tr style=\"text-align: right;\">\n",
       "      <th></th>\n",
       "      <th>date</th>\n",
       "      <th>calories_burned</th>\n",
       "      <th>steps</th>\n",
       "      <th>distance</th>\n",
       "      <th>floors</th>\n",
       "      <th>minutes_sedentary</th>\n",
       "      <th>minutes_lightly_active</th>\n",
       "      <th>minutes_fairly_active</th>\n",
       "      <th>minutes_very_active</th>\n",
       "      <th>activity_calories</th>\n",
       "      <th>total_minutes_logged</th>\n",
       "      <th>distance per step</th>\n",
       "    </tr>\n",
       "    <tr>\n",
       "      <th>date</th>\n",
       "      <th></th>\n",
       "      <th></th>\n",
       "      <th></th>\n",
       "      <th></th>\n",
       "      <th></th>\n",
       "      <th></th>\n",
       "      <th></th>\n",
       "      <th></th>\n",
       "      <th></th>\n",
       "      <th></th>\n",
       "      <th></th>\n",
       "      <th></th>\n",
       "    </tr>\n",
       "  </thead>\n",
       "  <tbody>\n",
       "    <tr>\n",
       "      <th>2018-04-26</th>\n",
       "      <td>2018-04-26</td>\n",
       "      <td>2635</td>\n",
       "      <td>2931</td>\n",
       "      <td>1.38</td>\n",
       "      <td>2</td>\n",
       "      <td>1347</td>\n",
       "      <td>93</td>\n",
       "      <td>0</td>\n",
       "      <td>0</td>\n",
       "      <td>566</td>\n",
       "      <td>1440</td>\n",
       "      <td>0.000471</td>\n",
       "    </tr>\n",
       "    <tr>\n",
       "      <th>2018-04-27</th>\n",
       "      <td>2018-04-27</td>\n",
       "      <td>3649</td>\n",
       "      <td>9971</td>\n",
       "      <td>4.70</td>\n",
       "      <td>19</td>\n",
       "      <td>1158</td>\n",
       "      <td>219</td>\n",
       "      <td>46</td>\n",
       "      <td>17</td>\n",
       "      <td>1752</td>\n",
       "      <td>1440</td>\n",
       "      <td>0.000471</td>\n",
       "    </tr>\n",
       "    <tr>\n",
       "      <th>2018-04-28</th>\n",
       "      <td>2018-04-28</td>\n",
       "      <td>3379</td>\n",
       "      <td>3521</td>\n",
       "      <td>1.66</td>\n",
       "      <td>2</td>\n",
       "      <td>702</td>\n",
       "      <td>155</td>\n",
       "      <td>22</td>\n",
       "      <td>11</td>\n",
       "      <td>1124</td>\n",
       "      <td>890</td>\n",
       "      <td>0.000471</td>\n",
       "    </tr>\n",
       "    <tr>\n",
       "      <th>2018-04-29</th>\n",
       "      <td>2018-04-29</td>\n",
       "      <td>2851</td>\n",
       "      <td>1639</td>\n",
       "      <td>0.77</td>\n",
       "      <td>0</td>\n",
       "      <td>891</td>\n",
       "      <td>122</td>\n",
       "      <td>0</td>\n",
       "      <td>0</td>\n",
       "      <td>602</td>\n",
       "      <td>1013</td>\n",
       "      <td>0.000470</td>\n",
       "    </tr>\n",
       "    <tr>\n",
       "      <th>2018-04-30</th>\n",
       "      <td>2018-04-30</td>\n",
       "      <td>2825</td>\n",
       "      <td>1323</td>\n",
       "      <td>0.62</td>\n",
       "      <td>0</td>\n",
       "      <td>880</td>\n",
       "      <td>104</td>\n",
       "      <td>0</td>\n",
       "      <td>0</td>\n",
       "      <td>540</td>\n",
       "      <td>984</td>\n",
       "      <td>0.000469</td>\n",
       "    </tr>\n",
       "  </tbody>\n",
       "</table>\n",
       "</div>"
      ],
      "text/plain": [
       "                 date  calories_burned  steps  distance  floors  \\\n",
       "date                                                              \n",
       "2018-04-26 2018-04-26             2635   2931      1.38       2   \n",
       "2018-04-27 2018-04-27             3649   9971      4.70      19   \n",
       "2018-04-28 2018-04-28             3379   3521      1.66       2   \n",
       "2018-04-29 2018-04-29             2851   1639      0.77       0   \n",
       "2018-04-30 2018-04-30             2825   1323      0.62       0   \n",
       "\n",
       "            minutes_sedentary  minutes_lightly_active  minutes_fairly_active  \\\n",
       "date                                                                           \n",
       "2018-04-26               1347                      93                      0   \n",
       "2018-04-27               1158                     219                     46   \n",
       "2018-04-28                702                     155                     22   \n",
       "2018-04-29                891                     122                      0   \n",
       "2018-04-30                880                     104                      0   \n",
       "\n",
       "            minutes_very_active  activity_calories  total_minutes_logged  \\\n",
       "date                                                                       \n",
       "2018-04-26                    0                566                  1440   \n",
       "2018-04-27                   17               1752                  1440   \n",
       "2018-04-28                   11               1124                   890   \n",
       "2018-04-29                    0                602                  1013   \n",
       "2018-04-30                    0                540                   984   \n",
       "\n",
       "            distance per step  \n",
       "date                           \n",
       "2018-04-26           0.000471  \n",
       "2018-04-27           0.000471  \n",
       "2018-04-28           0.000471  \n",
       "2018-04-29           0.000470  \n",
       "2018-04-30           0.000469  "
      ]
     },
     "execution_count": 19,
     "metadata": {},
     "output_type": "execute_result"
    }
   ],
   "source": [
    "df.head()"
   ]
  },
  {
   "cell_type": "code",
   "execution_count": 20,
   "metadata": {},
   "outputs": [],
   "source": [
    "# finish this\n",
    "def prepare_data(df):\n",
    "    df = pd.read_csv('fitbit/tidy.csv')\n",
    "    df['date'] = pd.to_datetime(df['date'])\n",
    "    df = df.set_index(df['date'])\n",
    "    df['calories_burned'] = df['calories_burned'].str.replace(',','')\n",
    "    df['steps'] = df['steps'].str.replace(',','')\n",
    "    df['minutes_sedentary'] = df['minutes_sedentary'].str.replace(',','')\n",
    "    df['activity_calories'] = df['activity_calories'].str.replace(',','')\n",
    "    df[['calories_burned', 'steps', 'minutes_sedentary', 'activity_calories']] = df[['calories_burned', 'steps', 'minutes_sedentary', 'activity_calories']].apply(pd.to_numeric)\n",
    "    df['total_minutes_logged'] = df['minutes_sedentary'] + df['minutes_lightly_active'] + df['minutes_fairly_active'] + df['minutes_very_active']\n",
    "    df['distance per step'] = df['distance'] / df['steps']\n",
    "    return df"
   ]
  },
  {
   "cell_type": "code",
   "execution_count": 21,
   "metadata": {},
   "outputs": [],
   "source": [
    "# day of the week vs floor count - is there a spike difference?"
   ]
  },
  {
   "cell_type": "code",
   "execution_count": 22,
   "metadata": {},
   "outputs": [
    {
     "data": {
      "text/html": [
       "<div>\n",
       "<style scoped>\n",
       "    .dataframe tbody tr th:only-of-type {\n",
       "        vertical-align: middle;\n",
       "    }\n",
       "\n",
       "    .dataframe tbody tr th {\n",
       "        vertical-align: top;\n",
       "    }\n",
       "\n",
       "    .dataframe thead th {\n",
       "        text-align: right;\n",
       "    }\n",
       "</style>\n",
       "<table border=\"1\" class=\"dataframe\">\n",
       "  <thead>\n",
       "    <tr style=\"text-align: right;\">\n",
       "      <th></th>\n",
       "      <th>date</th>\n",
       "      <th>calories_burned</th>\n",
       "      <th>steps</th>\n",
       "      <th>distance</th>\n",
       "      <th>floors</th>\n",
       "      <th>minutes_sedentary</th>\n",
       "      <th>minutes_lightly_active</th>\n",
       "      <th>minutes_fairly_active</th>\n",
       "      <th>minutes_very_active</th>\n",
       "      <th>activity_calories</th>\n",
       "      <th>total_minutes_logged</th>\n",
       "      <th>distance per step</th>\n",
       "    </tr>\n",
       "    <tr>\n",
       "      <th>date</th>\n",
       "      <th></th>\n",
       "      <th></th>\n",
       "      <th></th>\n",
       "      <th></th>\n",
       "      <th></th>\n",
       "      <th></th>\n",
       "      <th></th>\n",
       "      <th></th>\n",
       "      <th></th>\n",
       "      <th></th>\n",
       "      <th></th>\n",
       "      <th></th>\n",
       "    </tr>\n",
       "  </thead>\n",
       "  <tbody>\n",
       "    <tr>\n",
       "      <th>2018-04-26</th>\n",
       "      <td>2018-04-26</td>\n",
       "      <td>2635</td>\n",
       "      <td>2931</td>\n",
       "      <td>1.38</td>\n",
       "      <td>2</td>\n",
       "      <td>1347</td>\n",
       "      <td>93</td>\n",
       "      <td>0</td>\n",
       "      <td>0</td>\n",
       "      <td>566</td>\n",
       "      <td>1440</td>\n",
       "      <td>0.000471</td>\n",
       "    </tr>\n",
       "  </tbody>\n",
       "</table>\n",
       "</div>"
      ],
      "text/plain": [
       "                 date  calories_burned  steps  distance  floors  \\\n",
       "date                                                              \n",
       "2018-04-26 2018-04-26             2635   2931      1.38       2   \n",
       "\n",
       "            minutes_sedentary  minutes_lightly_active  minutes_fairly_active  \\\n",
       "date                                                                           \n",
       "2018-04-26               1347                      93                      0   \n",
       "\n",
       "            minutes_very_active  activity_calories  total_minutes_logged  \\\n",
       "date                                                                       \n",
       "2018-04-26                    0                566                  1440   \n",
       "\n",
       "            distance per step  \n",
       "date                           \n",
       "2018-04-26           0.000471  "
      ]
     },
     "execution_count": 22,
     "metadata": {},
     "output_type": "execute_result"
    }
   ],
   "source": [
    "df.head(1)"
   ]
  },
  {
   "cell_type": "code",
   "execution_count": null,
   "metadata": {},
   "outputs": [],
   "source": [
    "# look at the steps average in days, weeks, and months"
   ]
  },
  {
   "cell_type": "code",
   "execution_count": 37,
   "metadata": {
    "scrolled": true
   },
   "outputs": [
    {
     "data": {
      "text/plain": [
       "<matplotlib.axes._subplots.AxesSubplot at 0x1c1de317b8>"
      ]
     },
     "execution_count": 37,
     "metadata": {},
     "output_type": "execute_result"
    },
    {
     "data": {
      "image/png": "[encoded data removed]",
      "text/plain": [
       "<Figure size 864x288 with 1 Axes>"
      ]
     },
     "metadata": {
      "needs_background": "light"
     },
     "output_type": "display_data"
    }
   ],
   "source": [
    "df['steps'].resample(\"D\").mean().plot(figsize=(12,4))"
   ]
  },
  {
   "cell_type": "code",
   "execution_count": 36,
   "metadata": {},
   "outputs": [
    {
     "data": {
      "text/plain": [
       "<matplotlib.axes._subplots.AxesSubplot at 0x1c1dcd1a90>"
      ]
     },
     "execution_count": 36,
     "metadata": {},
     "output_type": "execute_result"
    },
    {
     "data": {
      "image/png": "[encoded data removed]",
      "text/plain": [
       "<Figure size 864x288 with 1 Axes>"
      ]
     },
     "metadata": {
      "needs_background": "light"
     },
     "output_type": "display_data"
    }
   ],
   "source": [
    "df['steps'].resample(\"W\").mean().plot(figsize=(12,4))"
   ]
  },
  {
   "cell_type": "code",
   "execution_count": 35,
   "metadata": {},
   "outputs": [
    {
     "data": {
      "text/plain": [
       "<matplotlib.axes._subplots.AxesSubplot at 0x1c1dba67f0>"
      ]
     },
     "execution_count": 35,
     "metadata": {},
     "output_type": "execute_result"
    },
    {
     "data": {
      "image/png": "[encoded data removed]",
      "text/plain": [
       "<Figure size 864x288 with 1 Axes>"
      ]
     },
     "metadata": {
      "needs_background": "light"
     },
     "output_type": "display_data"
    }
   ],
   "source": [
    "df['steps'].resample(\"M\").mean().plot(figsize=(12,4))"
   ]
  },
  {
   "cell_type": "code",
   "execution_count": 40,
   "metadata": {},
   "outputs": [
    {
     "data": {
      "text/plain": [
       "date\n",
       "2018-06-27      0\n",
       "2018-07-04      0\n",
       "2018-07-03      0\n",
       "2018-06-30      0\n",
       "2018-06-06      0\n",
       "2018-06-07      0\n",
       "2018-06-29      0\n",
       "2018-06-11      0\n",
       "2018-06-28      0\n",
       "2018-07-05      0\n",
       "2018-07-06      0\n",
       "2018-06-26      0\n",
       "2018-05-09     21\n",
       "2018-08-24     68\n",
       "2018-07-02    172\n",
       "Name: steps, dtype: int64"
      ]
     },
     "execution_count": 40,
     "metadata": {},
     "output_type": "execute_result"
    }
   ],
   "source": [
    "df.steps.sort_values().head(15)"
   ]
  },
  {
   "cell_type": "code",
   "execution_count": 43,
   "metadata": {},
   "outputs": [
    {
     "data": {
      "text/plain": [
       "date\n",
       "2018-08-26     41\n",
       "2018-08-18    749\n",
       "2018-11-02    816\n",
       "2018-06-03    817\n",
       "2018-08-11    822\n",
       "2018-11-07    824\n",
       "2018-05-28    832\n",
       "2018-11-19    834\n",
       "2018-09-16    838\n",
       "2018-11-26    849\n",
       "2018-12-01    849\n",
       "2018-11-13    850\n",
       "2018-11-24    862\n",
       "2018-05-22    869\n",
       "2018-07-12    870\n",
       "Name: total_minutes_logged, dtype: int64"
      ]
     },
     "execution_count": 43,
     "metadata": {},
     "output_type": "execute_result"
    }
   ],
   "source": [
    "df.total_minutes_logged.sort_values().head(15)"
   ]
  },
  {
   "cell_type": "code",
   "execution_count": null,
   "metadata": {},
   "outputs": [],
   "source": []
  }
 ],
 "metadata": {
  "kernelspec": {
   "display_name": "Python 3",
   "language": "python",
   "name": "python3"
  },
  "language_info": {
   "codemirror_mode": {
    "name": "ipython",
    "version": 3
   },
   "file_extension": ".py",
   "mimetype": "text/x-python",
   "name": "python",
   "nbconvert_exporter": "python",
   "pygments_lexer": "ipython3",
   "version": "3.7.3"
  },
  "toc": {
   "base_numbering": 1,
   "nav_menu": {},
   "number_sections": true,
   "sideBar": true,
   "skip_h1_title": false,
   "title_cell": "Table of Contents",
   "title_sidebar": "Contents",
   "toc_cell": false,
   "toc_position": {},
   "toc_section_display": true,
   "toc_window_display": false
  }
 },
 "nbformat": 4,
 "nbformat_minor": 2
}
